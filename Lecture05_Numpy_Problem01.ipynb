{
 "cells": [
  {
   "cell_type": "markdown",
   "metadata": {},
   "source": [
    "> Quiz 1 : 맨 가장자리는 모두 0, 내부는 모두 1인 10 by 10 행렬을 구하여라."
   ]
  },
  {
   "cell_type": "markdown",
   "metadata": {},
   "source": [
    "> Quiz 2 : 행렬 A, B에 대하여 $((A+B)\\times(-A/2))$를 in place (without copy)로 계산하여라."
   ]
  },
  {
   "cell_type": "markdown",
   "metadata": {},
   "source": [
    "> Quiz 3:\n",
    "- 3개의 배열이 주어졌을 때, 아래의 조건에 따라 새롭게 생성되는 배열을 구하시오\n",
    " - `cond[i]`가 `true`이면, `xarr[i]`를 선택\n",
    " - `cond[i]`가 `false`이면, `yarr[i]`를 선택\n",
    " \n",
    "```python\n",
    "xarr = np.array([1.1, 1.2, 1.3, 1.4, 1.5])\n",
    "yarr = np.array([2.1, 2.2, 2.3, 2.4, 2.5])\n",
    "cond = np.array([True, False, True, True, False])```"
   ]
  },
  {
   "cell_type": "markdown",
   "metadata": {},
   "source": [
    "> Quiz 4 : 크기가 11인 배열이 다음과 같이 주어졌을 때, 5번째 원소부터 9번째 원소까지를 음수로 바꾸어 보시오.\n",
    "- `quiz4Arr = np.arange(11)`"
   ]
  },
  {
   "cell_type": "markdown",
   "metadata": {},
   "source": [
    "> Quiz 5 : 난수생성기를 사용하여 크기가 0부터 9까지의 숫자로 구성된, 크기가 20인 배열을 생성하고, 배열의 최대값을 0으로 만들어라."
   ]
  }
 ],
 "metadata": {
  "kernelspec": {
   "display_name": "Python 3",
   "language": "python",
   "name": "python3"
  },
  "language_info": {
   "codemirror_mode": {
    "name": "ipython",
    "version": 3
   },
   "file_extension": ".py",
   "mimetype": "text/x-python",
   "name": "python",
   "nbconvert_exporter": "python",
   "pygments_lexer": "ipython3",
   "version": "3.6.6"
  }
 },
 "nbformat": 4,
 "nbformat_minor": 2
}
