{
 "cells": [
  {
   "cell_type": "markdown",
   "metadata": {},
   "source": [
    "# Eigenvector 구하기 (고유 분해)\n",
    "고유값과 고유벡터를 찾는 작업을 eigen decomposition이라고도 한다."
   ]
  },
  {
   "cell_type": "code",
   "execution_count": 288,
   "metadata": {},
   "outputs": [],
   "source": [
    "import numpy as np"
   ]
  },
  {
   "cell_type": "code",
   "execution_count": 39,
   "metadata": {},
   "outputs": [
    {
     "name": "stdout",
     "output_type": "stream",
     "text": [
      "[[1 2 3]\n",
      " [4 5 6]\n",
      " [7 8 9]]\n"
     ]
    }
   ],
   "source": [
    "A = np.array([[1, 2, 3], [4, 5, 6], [7, 8, 9]])\n",
    "print(A)"
   ]
  },
  {
   "cell_type": "markdown",
   "metadata": {},
   "source": [
    "> `numpy.linalg` 라이브러리의 `eig` 사용"
   ]
  },
  {
   "cell_type": "markdown",
   "metadata": {},
   "source": [
    "numpy에서 고유벡터는 행이 아닌, **열을 고유벡터로 가진다.**"
   ]
  },
  {
   "cell_type": "code",
   "execution_count": 40,
   "metadata": {},
   "outputs": [
    {
     "data": {
      "text/plain": [
       "(array([ 1.61168440e+01, -1.11684397e+00, -1.30367773e-15]),\n",
       " array([[-0.23197069, -0.78583024,  0.40824829],\n",
       "        [-0.52532209, -0.08675134, -0.81649658],\n",
       "        [-0.8186735 ,  0.61232756,  0.40824829]]))"
      ]
     },
     "execution_count": 40,
     "metadata": {},
     "output_type": "execute_result"
    }
   ],
   "source": [
    "np.linalg.eig(A)"
   ]
  },
  {
   "cell_type": "markdown",
   "metadata": {},
   "source": [
    "## 1. Eigenvector는 unit vector이다. (크기가 1인 단위 벡터)"
   ]
  },
  {
   "cell_type": "code",
   "execution_count": 41,
   "metadata": {},
   "outputs": [
    {
     "data": {
      "text/plain": [
       "array([[0.0538104 , 0.61752916, 0.16666667],\n",
       "       [0.2759633 , 0.00752579, 0.66666667],\n",
       "       [0.6702263 , 0.37494504, 0.16666667]])"
      ]
     },
     "execution_count": 41,
     "metadata": {},
     "output_type": "execute_result"
    }
   ],
   "source": [
    "eigen_val, eigen_vec = np.linalg.eig(A)\n",
    "eigen_vec ** 2"
   ]
  },
  {
   "cell_type": "code",
   "execution_count": 42,
   "metadata": {},
   "outputs": [
    {
     "data": {
      "text/plain": [
       "array([1., 1., 1.])"
      ]
     },
     "execution_count": 42,
     "metadata": {},
     "output_type": "execute_result"
    }
   ],
   "source": [
    "# 각 vector의 길이가 1이다.\n",
    "np.sum(eigen_vec ** 2, axis=0)"
   ]
  },
  {
   "cell_type": "markdown",
   "metadata": {},
   "source": [
    "## 2. Eigenvector는 Symmetric matrix 일 때만 orthogonal 하다."
   ]
  },
  {
   "cell_type": "code",
   "execution_count": 43,
   "metadata": {},
   "outputs": [
    {
     "data": {
      "text/plain": [
       "-0.27343437080986494"
      ]
     },
     "execution_count": 43,
     "metadata": {},
     "output_type": "execute_result"
    }
   ],
   "source": [
    "# A는 symmetric이 아니다.\n",
    "np.dot(eigen_vec[:,0], eigen_vec[:,1])"
   ]
  },
  {
   "cell_type": "code",
   "execution_count": 44,
   "metadata": {},
   "outputs": [],
   "source": [
    "# B는 symmetric 이다.\n",
    "B = np.array([[1, -2], [-2, 1]])\n",
    "b1, b2 = np.linalg.eig(B)"
   ]
  },
  {
   "cell_type": "code",
   "execution_count": 45,
   "metadata": {},
   "outputs": [
    {
     "data": {
      "text/plain": [
       "array([[ 0.70710678,  0.70710678],\n",
       "       [-0.70710678,  0.70710678]])"
      ]
     },
     "execution_count": 45,
     "metadata": {},
     "output_type": "execute_result"
    }
   ],
   "source": [
    "b2"
   ]
  },
  {
   "cell_type": "code",
   "execution_count": 46,
   "metadata": {},
   "outputs": [
    {
     "data": {
      "text/plain": [
       "0.0"
      ]
     },
     "execution_count": 46,
     "metadata": {},
     "output_type": "execute_result"
    }
   ],
   "source": [
    "np.dot(b2[:,0], b2[:,1])"
   ]
  },
  {
   "cell_type": "markdown",
   "metadata": {},
   "source": [
    "---\n",
    "*(예제)*\n",
    "다음 행렬의 고유값, 고유벡터를 구하라.\n",
    "\n",
    "\\begin{equation*}\n",
    "\\begin{bmatrix}\n",
    "2 & 3 \\\\\n",
    "2 & 1 \\\\\n",
    "\\end{bmatrix}\n",
    "\\end{equation*}\n",
    "\n",
    "\\begin{equation*}\n",
    "\\begin{bmatrix}\n",
    "1 & 1 \\\\\n",
    "0 & 1 \\\\\n",
    "\\end{bmatrix}\n",
    "\\end{equation*}\n",
    "\n",
    "---"
   ]
  },
  {
   "cell_type": "markdown",
   "metadata": {},
   "source": [
    "## 3. 대각화 \n",
    "\n",
    "- 대각화는 정방행렬에서 존재함을 기억하라.\n",
    "- 행렬이 대각화가능하려면 고유벡터는 선형독립이어야 한다.\n",
    "- **대칭행렬**은 대각화가능하다.\n",
    "$$A=V \\Sigma V^{-1}$$"
   ]
  },
  {
   "cell_type": "code",
   "execution_count": 51,
   "metadata": {},
   "outputs": [],
   "source": [
    "C = np.array([[1,2,3],[2,4,5],[3,5,6]])"
   ]
  },
  {
   "cell_type": "code",
   "execution_count": 56,
   "metadata": {},
   "outputs": [],
   "source": [
    "eigen_val, eigen_vec = np.linalg.eig(C)"
   ]
  },
  {
   "cell_type": "code",
   "execution_count": 57,
   "metadata": {},
   "outputs": [
    {
     "data": {
      "text/plain": [
       "array([[-0.32798528, -0.73697623,  0.59100905],\n",
       "       [-0.59100905, -0.32798528, -0.73697623],\n",
       "       [-0.73697623,  0.59100905,  0.32798528]])"
      ]
     },
     "execution_count": 57,
     "metadata": {},
     "output_type": "execute_result"
    }
   ],
   "source": [
    "eigen_vec"
   ]
  },
  {
   "cell_type": "code",
   "execution_count": 58,
   "metadata": {},
   "outputs": [
    {
     "data": {
      "text/plain": [
       "array([11.34481428, -0.51572947,  0.17091519])"
      ]
     },
     "execution_count": 58,
     "metadata": {},
     "output_type": "execute_result"
    }
   ],
   "source": [
    "eigen_val"
   ]
  },
  {
   "cell_type": "code",
   "execution_count": 59,
   "metadata": {},
   "outputs": [
    {
     "data": {
      "text/plain": [
       "array([[1., 2., 3.],\n",
       "       [2., 4., 5.],\n",
       "       [3., 5., 6.]])"
      ]
     },
     "execution_count": 59,
     "metadata": {},
     "output_type": "execute_result"
    }
   ],
   "source": [
    "eigen_vec.dot(np.diag(eigen_val)).dot(np.linalg.inv(eigen_vec))"
   ]
  },
  {
   "cell_type": "markdown",
   "metadata": {},
   "source": [
    "---"
   ]
  },
  {
   "cell_type": "markdown",
   "metadata": {},
   "source": [
    "# Latent Semantic Analysis"
   ]
  },
  {
   "cell_type": "markdown",
   "metadata": {},
   "source": [
    "(예제) 다음과 같이 document와 query가 주어졌다.\n",
    "\n",
    "$d_1$ : Romeo and Juliet.\n",
    "\n",
    "$d_2$ : Juliet: O happy dagger!\n",
    "\n",
    "$d_3$ : Romeo died by dagger.\n",
    "\n",
    "$d_4$ : \"Live free or die\", that's the motto of New-Hampshire \n",
    "\n",
    "$d_5$ : Did you know, New-Hampshire is in New-England\n",
    "\n",
    "$Query$ : dies and dagger"
   ]
  },
  {
   "cell_type": "code",
   "execution_count": 327,
   "metadata": {},
   "outputs": [],
   "source": [
    "# Matrix를 생성하기 위하여, index의 고정이 필요하고, 이를 위해서 순서를 정확히 보장하기 위해 OrderDict을 사용한다.\n",
    "from collections import OrderedDict\n",
    "\n",
    "# Corpus (단어 전체 셋)을 생성\n",
    "corpus = OrderedDict(\n",
    "    {'romeo': 0, 'juliet': 1, 'happy': 2, 'dagger': 3, 'live': 4, 'die': 5, 'free': 6, 'new-hampshire': 7}\n",
    ")"
   ]
  },
  {
   "cell_type": "code",
   "execution_count": 328,
   "metadata": {},
   "outputs": [],
   "source": [
    "d1 = 'Romeo and Juliet.'\n",
    "d2 = 'Juliet: O happy dagger!'\n",
    "d3 = 'Romeo die by dagger.'  # 주의! 원래는 과거형이므로 died를 써야하나, 형태소분석기 과정을 거치지 않을 것이므로, 그냥 평서문을 사용한다.\n",
    "d4 = \"'Live free or die', that's the motto of New-Hampshire\"\n",
    "d5 = 'Did you know, New-Hampshire is in New-England'\n",
    "\n",
    "docs = [d1, d2, d3, d4, d5]"
   ]
  },
  {
   "cell_type": "markdown",
   "metadata": {},
   "source": [
    "## 1. Document-Word matrix 생성"
   ]
  },
  {
   "cell_type": "markdown",
   "metadata": {},
   "source": [
    "### 1.1. 전처리 (Python 진영에서는 전문적인 형태소분석기 konlpy를 사용하면 된다.)"
   ]
  },
  {
   "cell_type": "code",
   "execution_count": 332,
   "metadata": {},
   "outputs": [
    {
     "data": {
      "text/plain": [
       "['Romeo', 'and', 'Juliet.']"
      ]
     },
     "execution_count": 332,
     "metadata": {},
     "output_type": "execute_result"
    }
   ],
   "source": [
    "# 각 문서를 빈 여백을 기준으로 나눈다.\n",
    "d1_tokens = d1.split(' ')\n",
    "d1_tokens"
   ]
  },
  {
   "cell_type": "code",
   "execution_count": 333,
   "metadata": {},
   "outputs": [
    {
     "data": {
      "text/plain": [
       "['romeo', 'and', 'juliet.']"
      ]
     },
     "execution_count": 333,
     "metadata": {},
     "output_type": "execute_result"
    }
   ],
   "source": [
    "# 대소문자의 구분을 없앤다.\n",
    "d1_tokens = map(str.lower, d1_tokens)  # 또는 [s.lower for s in d1_tokens]를 사용\n",
    "d1_tokens = list(d1_tokens)\n",
    "d1_tokens"
   ]
  },
  {
   "cell_type": "code",
   "execution_count": 337,
   "metadata": {},
   "outputs": [],
   "source": [
    "import re"
   ]
  },
  {
   "cell_type": "code",
   "execution_count": 338,
   "metadata": {},
   "outputs": [
    {
     "data": {
      "text/plain": [
       "['romeo', 'and', 'juliet']"
      ]
     },
     "execution_count": 338,
     "metadata": {},
     "output_type": "execute_result"
    }
   ],
   "source": [
    "# '-'를 제외한 구두점만 제거한다. (아주 간단하게)\n",
    "d1_tokens = [re.sub(r'[^a-zA-Z0-9-]', '', token) for token in d1_tokens]\n",
    "d1_tokens"
   ]
  },
  {
   "cell_type": "markdown",
   "metadata": {},
   "source": [
    "---\n",
    "\n",
    "(Advanced)"
   ]
  },
  {
   "cell_type": "code",
   "execution_count": 343,
   "metadata": {},
   "outputs": [
    {
     "name": "stdout",
     "output_type": "stream",
     "text": [
      "!\"#$%&'()*+,-./:;<=>?@[\\]^_`{|}~\n"
     ]
    },
    {
     "data": {
      "text/plain": [
       "'teststringwowgood'"
      ]
     },
     "execution_count": 343,
     "metadata": {},
     "output_type": "execute_result"
    }
   ],
   "source": [
    "# 구두점을 제거하는 방법은 다음과 같이 하면 된다.\n",
    "import string\n",
    "print(string.punctuation)\n",
    "\n",
    "s = 'test-string,wow.good!'\n",
    "translator=str.maketrans('','',string.punctuation)\n",
    "s.translate(translator)"
   ]
  },
  {
   "cell_type": "code",
   "execution_count": 341,
   "metadata": {},
   "outputs": [
    {
     "data": {
      "text/plain": [
       "'asd-'"
      ]
     },
     "execution_count": 341,
     "metadata": {},
     "output_type": "execute_result"
    }
   ],
   "source": [
    "# a-z and A-Z and 0-9 and -를 제외한(^) 단어는 empty string과 교체한다.\n",
    "re.sub(r'[^a-zA-Z0-9-]', '','asd-')"
   ]
  },
  {
   "cell_type": "markdown",
   "metadata": {},
   "source": [
    "---"
   ]
  },
  {
   "cell_type": "code",
   "execution_count": 344,
   "metadata": {},
   "outputs": [],
   "source": [
    "# 함수로 정의한다.\n",
    "def parse_document(doc):\n",
    "    tokens = doc.split(' ')\n",
    "    tokens = map(str.lower, tokens)\n",
    "    tokens = list(tokens)\n",
    "    tokens = [re.sub(r'[^a-zA-Z0-9-]', '', token) for token in tokens]\n",
    "    \n",
    "    return tokens"
   ]
  },
  {
   "cell_type": "code",
   "execution_count": 345,
   "metadata": {},
   "outputs": [
    {
     "name": "stdout",
     "output_type": "stream",
     "text": [
      "['romeo', 'and', 'juliet']\n",
      "['juliet', 'o', 'happy', 'dagger']\n",
      "['romeo', 'die', 'by', 'dagger']\n",
      "['live', 'free', 'or', 'die', 'thats', 'the', 'motto', 'of', 'new-hampshire']\n",
      "['did', 'you', 'know', 'new-hampshire', 'is', 'in', 'new-england']\n"
     ]
    }
   ],
   "source": [
    "# 사실 이 과정에서, 과거형은 현재형으로, 축약형 that's는 that is로 변경해주는 등\n",
    "# \"형태소 분석\" 과정이 필요하나 그것은 NLP 전처리 과정에 속함으로 우선은 여기까지만 작업한다.\n",
    "d2_tokens = parse_document(d2)\n",
    "d3_tokens = parse_document(d3)\n",
    "d4_tokens = parse_document(d4)\n",
    "d5_tokens = parse_document(d5)\n",
    "\n",
    "print(d1_tokens)\n",
    "print(d2_tokens)\n",
    "print(d3_tokens)\n",
    "print(d4_tokens)\n",
    "print(d5_tokens)"
   ]
  },
  {
   "cell_type": "markdown",
   "metadata": {},
   "source": [
    "### 1.2. Document vector를 생성한다."
   ]
  },
  {
   "cell_type": "code",
   "execution_count": 346,
   "metadata": {},
   "outputs": [
    {
     "name": "stdout",
     "output_type": "stream",
     "text": [
      "['romeo', 'and', 'juliet']\n"
     ]
    }
   ],
   "source": [
    "print(d1_tokens)"
   ]
  },
  {
   "cell_type": "code",
   "execution_count": 348,
   "metadata": {},
   "outputs": [
    {
     "name": "stdout",
     "output_type": "stream",
     "text": [
      "romeo 0\n",
      "juliet 1\n",
      "happy 2\n",
      "dagger 3\n",
      "live 4\n",
      "die 5\n",
      "free 6\n",
      "new-hampshire 7\n"
     ]
    }
   ],
   "source": [
    "# 먼저 corpus내의 iterator 내용을 확인하자.\n",
    "for v, i in corpus.items():\n",
    "    print(v, i)"
   ]
  },
  {
   "cell_type": "markdown",
   "metadata": {},
   "source": [
    "#### <font color=red>Document를 구성하는 vector의 길이는 corpus의 길이와 같다.</font>"
   ]
  },
  {
   "cell_type": "code",
   "execution_count": 349,
   "metadata": {},
   "outputs": [
    {
     "data": {
      "text/plain": [
       "odict_values([0, 1, 2, 3, 4, 5, 6, 7])"
      ]
     },
     "execution_count": 349,
     "metadata": {},
     "output_type": "execute_result"
    }
   ],
   "source": [
    "corpus.values()"
   ]
  },
  {
   "cell_type": "markdown",
   "metadata": {},
   "source": [
    "- 첫번째 문장 `Romeo and Juliet`은,\n",
    "\n",
    "- 전처리 후 `romeo, juliet` tokens가 되며,\n",
    "\n",
    "- 전체 corpus을 entry로 가진 vector `romeo juliet (hayyp:없음) (dagger:없음) (live:없음) (die:없음) (free:없음) (new-hampshire:없음)`에 대응되고,\n",
    "\n",
    "- 최종적으로 document vector `1 1 0 0 0 0`에 대응된다."
   ]
  },
  {
   "cell_type": "code",
   "execution_count": 351,
   "metadata": {},
   "outputs": [
    {
     "data": {
      "text/plain": [
       "[1, 1, 0, 0, 0, 0, 0, 0]"
      ]
     },
     "execution_count": 351,
     "metadata": {},
     "output_type": "execute_result"
    }
   ],
   "source": [
    "# d1 vector를 생성해보자.\n",
    "d1_vec = []\n",
    "for v, i in corpus.items():\n",
    "    if v in d1_tokens:\n",
    "        d1_vec.append(1)\n",
    "    else:\n",
    "        d1_vec.append(0)\n",
    "d1_vec"
   ]
  },
  {
   "cell_type": "code",
   "execution_count": 352,
   "metadata": {},
   "outputs": [],
   "source": [
    "# Document vector를 생성하는 코드를 함수로 바꿔보자.\n",
    "def get_doc_vector(tokens):\n",
    "    doc_vec = [1 if v in tokens else 0 for v, i in corpus.items()]\n",
    "    return doc_vec"
   ]
  },
  {
   "cell_type": "code",
   "execution_count": 353,
   "metadata": {},
   "outputs": [
    {
     "name": "stdout",
     "output_type": "stream",
     "text": [
      "[1, 1, 0, 0, 0, 0, 0, 0]\n",
      "[0, 1, 1, 1, 0, 0, 0, 0]\n",
      "[1, 0, 0, 1, 0, 1, 0, 0]\n",
      "[0, 0, 0, 0, 1, 1, 1, 1]\n",
      "[0, 0, 0, 0, 0, 0, 0, 1]\n"
     ]
    }
   ],
   "source": [
    "d2_vec = get_doc_vector(d2_tokens)\n",
    "d3_vec = get_doc_vector(d3_tokens)\n",
    "d4_vec = get_doc_vector(d4_tokens)\n",
    "d5_vec = get_doc_vector(d5_tokens)\n",
    "\n",
    "print(d1_vec)\n",
    "print(d2_vec)\n",
    "print(d3_vec)\n",
    "print(d4_vec)\n",
    "print(d5_vec)"
   ]
  },
  {
   "cell_type": "markdown",
   "metadata": {},
   "source": [
    "### 1.3. Document-Word matrix를 생성한다."
   ]
  },
  {
   "cell_type": "code",
   "execution_count": 358,
   "metadata": {},
   "outputs": [
    {
     "name": "stdout",
     "output_type": "stream",
     "text": [
      "[[1 1 0 0 0 0 0 0]\n",
      " [0 1 1 1 0 0 0 0]\n",
      " [1 0 0 1 0 1 0 0]\n",
      " [0 0 0 0 1 1 1 1]\n",
      " [0 0 0 0 0 0 0 1]]\n"
     ]
    }
   ],
   "source": [
    "# 최종 matrix Word-Document matrix\n",
    "A = np.array([d1_vec, d2_vec, d3_vec, d4_vec, d5_vec])\n",
    "A"
   ]
  },
  {
   "cell_type": "markdown",
   "metadata": {},
   "source": [
    "## 2. Doc-Doc matrix 와 Word-Word matrix를 생성한다."
   ]
  },
  {
   "cell_type": "markdown",
   "metadata": {},
   "source": [
    "### Document matrix : 문서 $i$와 문서 $j$가 $b$개의 공통 단어를 가지고 있으면 $B[i, j]=b$"
   ]
  },
  {
   "cell_type": "code",
   "execution_count": 214,
   "metadata": {},
   "outputs": [
    {
     "data": {
      "text/plain": [
       "array([[2, 1, 1, 0, 0],\n",
       "       [1, 3, 1, 0, 0],\n",
       "       [1, 1, 3, 1, 0],\n",
       "       [0, 0, 1, 4, 1],\n",
       "       [0, 0, 0, 1, 1]])"
      ]
     },
     "execution_count": 214,
     "metadata": {},
     "output_type": "execute_result"
    }
   ],
   "source": [
    "doc_mat = np.dot(A, A.T)\n",
    "doc_mat"
   ]
  },
  {
   "cell_type": "markdown",
   "metadata": {},
   "source": [
    "### Word matrix : 단어 $i$와 단어 $j$가 문서 $c$개 에서 함께 발생했으면 $C[i,j]=c$"
   ]
  },
  {
   "cell_type": "code",
   "execution_count": 215,
   "metadata": {},
   "outputs": [
    {
     "data": {
      "text/plain": [
       "array([[2, 1, 0, 1, 0, 1, 0, 0],\n",
       "       [1, 2, 1, 1, 0, 0, 0, 0],\n",
       "       [0, 1, 1, 1, 0, 0, 0, 0],\n",
       "       [1, 1, 1, 2, 0, 1, 0, 0],\n",
       "       [0, 0, 0, 0, 1, 1, 1, 1],\n",
       "       [1, 0, 0, 1, 1, 2, 1, 1],\n",
       "       [0, 0, 0, 0, 1, 1, 1, 1],\n",
       "       [0, 0, 0, 0, 1, 1, 1, 2]])"
      ]
     },
     "execution_count": 215,
     "metadata": {},
     "output_type": "execute_result"
    }
   ],
   "source": [
    "word_mat = np.dot(A.T, A)\n",
    "word_mat"
   ]
  },
  {
   "cell_type": "markdown",
   "metadata": {},
   "source": [
    "### $$A=U \\Sigma V^T$$"
   ]
  },
  {
   "cell_type": "code",
   "execution_count": 216,
   "metadata": {},
   "outputs": [],
   "source": [
    "U, sig, V_T = np.linalg.svd(A)"
   ]
  },
  {
   "cell_type": "markdown",
   "metadata": {},
   "source": [
    "#### $U$"
   ]
  },
  {
   "cell_type": "code",
   "execution_count": 223,
   "metadata": {},
   "outputs": [
    {
     "data": {
      "text/plain": [
       "array([[ 0.31086574,  0.36293322, -0.11801342, -0.860986  , -0.12813236],\n",
       "       [ 0.40733041,  0.54074246,  0.67670369,  0.2873596 , -0.03429449],\n",
       "       [ 0.59446137,  0.20005441, -0.659179  ,  0.35817507,  0.20925479],\n",
       "       [ 0.60304575, -0.6953914 ,  0.1983751 , -0.05309476, -0.3325581 ],\n",
       "       [ 0.1428143 , -0.22866156,  0.23297063, -0.21217712,  0.90995798]])"
      ]
     },
     "execution_count": 223,
     "metadata": {},
     "output_type": "execute_result"
    }
   ],
   "source": [
    "# U의 각 컬럼은 A*A^T의 eigenvector 이다.\n",
    "U"
   ]
  },
  {
   "cell_type": "markdown",
   "metadata": {},
   "source": [
    "> $AA^T$ 의 eigenvector (컬럼들)"
   ]
  },
  {
   "cell_type": "code",
   "execution_count": 227,
   "metadata": {},
   "outputs": [
    {
     "data": {
      "text/plain": [
       "(array([5.22258663, 4.0411382 , 0.63453466, 1.25023791, 1.85150261]),\n",
       " array([[ 0.31086574,  0.36293322,  0.12813236, -0.860986  , -0.11801342],\n",
       "        [ 0.40733041,  0.54074246,  0.03429449,  0.2873596 ,  0.67670369],\n",
       "        [ 0.59446137,  0.20005441, -0.20925479,  0.35817507, -0.659179  ],\n",
       "        [ 0.60304575, -0.6953914 ,  0.3325581 , -0.05309476,  0.1983751 ],\n",
       "        [ 0.1428143 , -0.22866156, -0.90995798, -0.21217712,  0.23297063]]))"
      ]
     },
     "execution_count": 227,
     "metadata": {},
     "output_type": "execute_result"
    }
   ],
   "source": [
    "np.linalg.eig(np.dot(A, A.T))"
   ]
  },
  {
   "cell_type": "markdown",
   "metadata": {},
   "source": [
    "#### $V^T$"
   ]
  },
  {
   "cell_type": "code",
   "execution_count": 231,
   "metadata": {},
   "outputs": [
    {
     "data": {
      "text/plain": [
       "array([[ 3.96152775e-01,  2.80057367e-01, -5.71171321e-01,\n",
       "        -4.49684978e-01,  1.01838799e-01, -7.80534893e-02,\n",
       "         2.79862388e-01,  3.76020143e-01],\n",
       "       [ 3.14268061e-01,  4.49532136e-01,  4.10590545e-01,\n",
       "        -5.13018237e-01, -2.03906072e-01,  7.80534893e-02,\n",
       "        -2.79862388e-01, -3.76020143e-01],\n",
       "       [ 1.78239520e-01,  2.68991539e-01,  4.97320521e-01,\n",
       "         2.56997782e-01, -4.30523318e-02,  4.14495944e-01,\n",
       "         2.43169760e-01,  5.91360078e-01],\n",
       "       [ 4.38363755e-01,  3.68508309e-01,  1.28791752e-02,\n",
       "         5.77328823e-01,  2.19640207e-01, -4.92549433e-01,\n",
       "         3.66926283e-02, -2.15339935e-01],\n",
       "       [ 2.63880584e-01, -3.45921426e-01,  1.45789077e-01,\n",
       "        -4.74848765e-02, -4.17484024e-01, -4.91483336e-01,\n",
       "        -4.04112742e-01,  4.56114292e-01],\n",
       "       [ 5.24004819e-01, -2.46404656e-01, -3.38652269e-01,\n",
       "         2.72846164e-01, -1.54791485e-01,  5.70602923e-01,\n",
       "        -3.16555017e-01, -1.60680208e-01],\n",
       "       [ 2.63880584e-01, -3.45921426e-01,  1.45789077e-01,\n",
       "        -4.74848765e-02, -4.17484024e-01, -7.91195865e-02,\n",
       "         7.20667759e-01, -2.95434084e-01],\n",
       "       [ 3.26373224e-01, -4.59668780e-01,  3.17002971e-01,\n",
       "        -2.37243804e-01,  7.24851450e-01,  0.00000000e+00,\n",
       "         1.11022302e-16,  5.55111512e-17]])"
      ]
     },
     "execution_count": 231,
     "metadata": {},
     "output_type": "execute_result"
    }
   ],
   "source": [
    "# V의 각 컬럼은 A^T*A의 eigenvector 이다.\n",
    "V_T.T"
   ]
  },
  {
   "cell_type": "markdown",
   "metadata": {},
   "source": [
    "> $A^TA$의 eigenvector (컬럼들)"
   ]
  },
  {
   "cell_type": "code",
   "execution_count": 228,
   "metadata": {},
   "outputs": [
    {
     "data": {
      "text/plain": [
       "(array([ 5.22258663e+00,  4.04113820e+00,  1.85150261e+00,  1.25023791e+00,\n",
       "         6.34534659e-01,  8.53691281e-17, -1.11134645e-16,  1.47834898e-17]),\n",
       " array([[ 3.96152775e-01,  2.80057367e-01,  5.71171321e-01,\n",
       "          4.49684978e-01,  1.01838799e-01,  4.20734980e-01,\n",
       "         -2.33732328e-01, -2.00692650e-01],\n",
       "        [ 3.14268061e-01,  4.49532136e-01, -4.10590545e-01,\n",
       "          5.13018237e-01, -2.03906072e-01, -4.20734980e-01,\n",
       "          2.33732328e-01,  2.00692650e-01],\n",
       "        [ 1.78239520e-01,  2.68991539e-01, -4.97320521e-01,\n",
       "         -2.56997782e-01, -4.30523318e-02,  3.43638120e-01,\n",
       "         -7.31915252e-01, -3.43950428e-01],\n",
       "        [ 4.38363755e-01,  3.68508309e-01, -1.28791752e-02,\n",
       "         -5.77328823e-01,  2.19640207e-01,  7.70968604e-02,\n",
       "          4.98182923e-01,  1.43257778e-01],\n",
       "        [ 2.63880584e-01, -3.45921426e-01, -1.45789077e-01,\n",
       "          4.74848765e-02, -4.17484024e-01,  5.22939877e-01,\n",
       "          1.63458774e-01, -6.51482274e-01],\n",
       "        [ 5.24004819e-01, -2.46404656e-01,  3.38652269e-01,\n",
       "         -2.72846164e-01, -1.54791485e-01, -4.97831840e-01,\n",
       "         -2.64450595e-01,  5.74348727e-02],\n",
       "        [ 2.63880584e-01, -3.45921426e-01, -1.45789077e-01,\n",
       "          4.74848765e-02, -4.17484024e-01, -2.51080370e-02,\n",
       "          1.00991821e-01,  5.94047401e-01],\n",
       "        [ 3.26373224e-01, -4.59668780e-01, -3.17002971e-01,\n",
       "          2.37243804e-01,  7.24851450e-01,  8.69796415e-18,\n",
       "          2.97611660e-16,  6.99568486e-17]]))"
      ]
     },
     "execution_count": 228,
     "metadata": {},
     "output_type": "execute_result"
    }
   ],
   "source": [
    "np.linalg.eig(np.dot(A.T, A))"
   ]
  },
  {
   "cell_type": "markdown",
   "metadata": {},
   "source": [
    "### Words Vectors"
   ]
  },
  {
   "cell_type": "markdown",
   "metadata": {},
   "source": [
    "$k=2$로 표현하자."
   ]
  },
  {
   "cell_type": "code",
   "execution_count": 233,
   "metadata": {},
   "outputs": [],
   "source": [
    "eigen_val, eigen_vec = np.linalg.eig(np.dot(A.T, A))"
   ]
  },
  {
   "cell_type": "code",
   "execution_count": 254,
   "metadata": {},
   "outputs": [],
   "source": [
    "x = eigen_vec[:,0] "
   ]
  },
  {
   "cell_type": "code",
   "execution_count": 255,
   "metadata": {},
   "outputs": [],
   "source": [
    "y = eigen_vec[:,1]"
   ]
  },
  {
   "cell_type": "code",
   "execution_count": 268,
   "metadata": {},
   "outputs": [],
   "source": [
    "words = corpus.keys()"
   ]
  },
  {
   "cell_type": "code",
   "execution_count": 261,
   "metadata": {},
   "outputs": [
    {
     "data": {
      "text/plain": [
       "array([[ 0.39615277,  0.28005737],\n",
       "       [ 0.31426806,  0.44953214],\n",
       "       [ 0.17823952,  0.26899154],\n",
       "       [ 0.43836375,  0.36850831],\n",
       "       [ 0.26388058, -0.34592143],\n",
       "       [ 0.52400482, -0.24640466],\n",
       "       [ 0.26388058, -0.34592143],\n",
       "       [ 0.32637322, -0.45966878]])"
      ]
     },
     "execution_count": 261,
     "metadata": {},
     "output_type": "execute_result"
    }
   ],
   "source": [
    "eigen_vec[:, :2]"
   ]
  },
  {
   "cell_type": "code",
   "execution_count": 262,
   "metadata": {},
   "outputs": [
    {
     "data": {
      "text/plain": [
       "array([2.28529793, 2.01025824, 1.36069931, 1.11814038, 0.79657684])"
      ]
     },
     "execution_count": 262,
     "metadata": {},
     "output_type": "execute_result"
    }
   ],
   "source": [
    "sig"
   ]
  },
  {
   "cell_type": "code",
   "execution_count": 272,
   "metadata": {},
   "outputs": [],
   "source": [
    "word_vec = np.dot(np.diag(sig[:2]), eigen_vec[:, :2].T)"
   ]
  },
  {
   "cell_type": "code",
   "execution_count": 305,
   "metadata": {},
   "outputs": [
    {
     "data": {
      "text/plain": [
       "array([[ 0.90532712,  0.71819615,  0.40733041,  1.00179178,  0.60304575,\n",
       "         1.19750713,  0.60304575,  0.74586005],\n",
       "       [ 0.56298763,  0.90367568,  0.54074246,  0.74079687, -0.6953914 ,\n",
       "        -0.49533699, -0.6953914 , -0.92405295]])"
      ]
     },
     "execution_count": 305,
     "metadata": {},
     "output_type": "execute_result"
    }
   ],
   "source": [
    "word_vec"
   ]
  },
  {
   "cell_type": "code",
   "execution_count": 273,
   "metadata": {},
   "outputs": [],
   "source": [
    "w_x = word_vec[0]\n",
    "w_y = word_vec[1]"
   ]
  },
  {
   "cell_type": "code",
   "execution_count": 300,
   "metadata": {},
   "outputs": [
    {
     "data": {
      "image/png": "[encoded data removed]",
      "text/plain": [
       "<Figure size 432x288 with 1 Axes>"
      ]
     },
     "metadata": {},
     "output_type": "display_data"
    }
   ],
   "source": [
    "import seaborn as sns\n",
    "import matplotlib.pyplot as plt\n",
    "\n",
    "fig, ax = plt.subplots()\n",
    "ax.scatter(w_x, w_y)\n",
    "for i, txt in enumerate(words):\n",
    "    ax.annotate(txt, (w_x[i], w_y[i]))"
   ]
  },
  {
   "cell_type": "code",
   "execution_count": 275,
   "metadata": {},
   "outputs": [],
   "source": [
    "### Doc Vertors"
   ]
  },
  {
   "cell_type": "code",
   "execution_count": 276,
   "metadata": {},
   "outputs": [],
   "source": [
    "doc_eigen_val, doc_eigen_vec = np.linalg.eig(np.dot(A, A.T))"
   ]
  },
  {
   "cell_type": "code",
   "execution_count": 279,
   "metadata": {},
   "outputs": [],
   "source": [
    "doc_vec = np.dot(doc_eigen_vec[:, :2], np.diag(sig[:2]))"
   ]
  },
  {
   "cell_type": "code",
   "execution_count": 281,
   "metadata": {},
   "outputs": [],
   "source": [
    "doc_x = doc_vec[:, 0]\n",
    "doc_y = doc_vec[:, 1]"
   ]
  },
  {
   "cell_type": "code",
   "execution_count": 303,
   "metadata": {},
   "outputs": [
    {
     "data": {
      "image/png": "[encoded data removed]",
      "text/plain": [
       "<Figure size 432x288 with 1 Axes>"
      ]
     },
     "metadata": {},
     "output_type": "display_data"
    }
   ],
   "source": [
    "fig, ax = plt.subplots()\n",
    "ax.scatter(doc_x, doc_y, marker='*')\n",
    "for i, txt in enumerate(['d1', 'd2', 'd3', 'd4', 'd5']):\n",
    "    ax.annotate(txt, (doc_x[i], doc_y[i]))"
   ]
  },
  {
   "cell_type": "code",
   "execution_count": 304,
   "metadata": {},
   "outputs": [
    {
     "data": {
      "image/png": "[encoded data removed]",
      "text/plain": [
       "<Figure size 432x288 with 1 Axes>"
      ]
     },
     "metadata": {},
     "output_type": "display_data"
    }
   ],
   "source": [
    "fig, ax = plt.subplots()\n",
    "ax.scatter(w_x, w_y)\n",
    "for i, txt in enumerate(words):\n",
    "    ax.annotate(txt, (w_x[i], w_y[i]))\n",
    "    \n",
    "ax.scatter(doc_x, doc_y, marker='*')\n",
    "for i, txt in enumerate(['d1', 'd2', 'd3', 'd4', 'd5']):\n",
    "    ax.annotate(txt, (doc_x[i], doc_y[i]))"
   ]
  },
  {
   "cell_type": "markdown",
   "metadata": {},
   "source": [
    "### Query"
   ]
  },
  {
   "cell_type": "code",
   "execution_count": 308,
   "metadata": {},
   "outputs": [
    {
     "name": "stdout",
     "output_type": "stream",
     "text": [
      "dagger [1.00179178 0.74079687]\n",
      "die [ 1.19750713 -0.49533699]\n"
     ]
    }
   ],
   "source": [
    "# Query : die, dagger\n",
    "q1 = word_vec[:, 3]\n",
    "print('dagger', q1)\n",
    "q2 = word_vec[:, 5]\n",
    "print('die', q2)"
   ]
  },
  {
   "cell_type": "code",
   "execution_count": 312,
   "metadata": {},
   "outputs": [
    {
     "name": "stdout",
     "output_type": "stream",
     "text": [
      "dagger and die : [1.09964945 0.12272994]\n"
     ]
    }
   ],
   "source": [
    "query = (q1 + q2) / 2\n",
    "print('dagger and die :', query)"
   ]
  },
  {
   "cell_type": "markdown",
   "metadata": {},
   "source": [
    "### Query와 document의 거리\n",
    "$$\\text{Cosine Similarity} = \\frac{d_i q}{|d_i| |q|}$$"
   ]
  },
  {
   "cell_type": "code",
   "execution_count": 314,
   "metadata": {},
   "outputs": [],
   "source": [
    "def get_consine_similarity(doc, query):\n",
    "    dot_prod = np.dot(doc, query)\n",
    "    len_doc = np.sqrt(sum(doc ** 2))\n",
    "    len_query = np.sqrt(sum(query ** 2))\n",
    "    \n",
    "    return dot_prod / (len_doc * len_query)"
   ]
  },
  {
   "cell_type": "code",
   "execution_count": 323,
   "metadata": {},
   "outputs": [],
   "source": [
    "result = {}\n",
    "for idx, doc in zip(docs, doc_vec):\n",
    "    result[get_consine_similarity(doc, query)] = idx"
   ]
  },
  {
   "cell_type": "code",
   "execution_count": 324,
   "metadata": {},
   "outputs": [
    {
     "data": {
      "text/plain": [
       "{0.4849183185073821: 'Did you know, New-Hampshire is in New-England',\n",
       " 0.6187306127613211: \"'Live free or die', that's the motto of New-Hampshire\",\n",
       " 0.7306768205359726: 'Juliet: O happy dagger!',\n",
       " 0.7727964887537556: 'Romeo and Juliet.',\n",
       " 0.9844359912676067: 'Romeo die by dagger.'}"
      ]
     },
     "execution_count": 324,
     "metadata": {},
     "output_type": "execute_result"
    }
   ],
   "source": [
    "result"
   ]
  },
  {
   "cell_type": "code",
   "execution_count": 326,
   "metadata": {},
   "outputs": [
    {
     "data": {
      "text/plain": [
       "[(0.9844359912676067, 'Romeo die by dagger.'),\n",
       " (0.7727964887537556, 'Romeo and Juliet.'),\n",
       " (0.7306768205359726, 'Juliet: O happy dagger!'),\n",
       " (0.6187306127613211, \"'Live free or die', that's the motto of New-Hampshire\"),\n",
       " (0.4849183185073821, 'Did you know, New-Hampshire is in New-England')]"
      ]
     },
     "execution_count": 326,
     "metadata": {},
     "output_type": "execute_result"
    }
   ],
   "source": [
    "import operator\n",
    "sorted(result.items(), key=operator.itemgetter(0), reverse=True)"
   ]
  },
  {
   "cell_type": "code",
   "execution_count": null,
   "metadata": {},
   "outputs": [],
   "source": []
  },
  {
   "cell_type": "code",
   "execution_count": null,
   "metadata": {},
   "outputs": [],
   "source": []
  },
  {
   "cell_type": "code",
   "execution_count": 357,
   "metadata": {},
   "outputs": [
    {
     "data": {
      "text/plain": [
       "Text(1.09965,0.12273,'query')"
      ]
     },
     "execution_count": 357,
     "metadata": {},
     "output_type": "execute_result"
    },
    {
     "data": {
      "image/png": "[encoded data removed]",
      "text/plain": [
       "<Figure size 432x288 with 1 Axes>"
      ]
     },
     "metadata": {},
     "output_type": "display_data"
    }
   ],
   "source": [
    "fig, ax = plt.subplots()\n",
    "ax.scatter(w_x, w_y)\n",
    "for i, txt in enumerate(words):\n",
    "    ax.annotate(txt, (w_x[i], w_y[i]))\n",
    "    \n",
    "ax.scatter(doc_x, doc_y, marker='*')\n",
    "for i, txt in enumerate(['d1', 'd2', 'd3', 'd4', 'd5']):\n",
    "    ax.annotate(txt, (doc_x[i], doc_y[i]))\n",
    "    \n",
    "ax.scatter(query[0], query[1], marker='v')\n",
    "ax.annotate('query', (query[0], query[1]))"
   ]
  },
  {
   "cell_type": "code",
   "execution_count": null,
   "metadata": {},
   "outputs": [],
   "source": []
  }
 ],
 "metadata": {
  "kernelspec": {
   "display_name": "Python 3",
   "language": "python",
   "name": "python3"
  },
  "language_info": {
   "codemirror_mode": {
    "name": "ipython",
    "version": 3
   },
   "file_extension": ".py",
   "mimetype": "text/x-python",
   "name": "python",
   "nbconvert_exporter": "python",
   "pygments_lexer": "ipython3",
   "version": "3.6.3"
  }
 },
 "nbformat": 4,
 "nbformat_minor": 2
}
